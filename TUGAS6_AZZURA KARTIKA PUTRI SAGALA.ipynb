{
  "cells": [
    {
      "cell_type": "markdown",
      "metadata": {
        "id": "view-in-github",
        "colab_type": "text"
      },
      "source": [
        "<a href=\"https://colab.research.google.com/github/azzurasagala/ALGORITMA-PHYTON/blob/main/TUGAS6_AZZURA%20KARTIKA%20PUTRI%20SAGALA.ipynb\" target=\"_parent\"><img src=\"https://colab.research.google.com/assets/colab-badge.svg\" alt=\"Open In Colab\"/></a>"
      ]
    },
    {
      "cell_type": "markdown",
      "source": [
        "TUGAS NO 1"
      ],
      "metadata": {
        "id": "DK1aBK9Vl7MB"
      }
    },
    {
      "cell_type": "code",
      "source": [
        "S = [4,1,-1,10,0,12]\n",
        "\n",
        "D = int(input(\"Masukan nilai D\"))\n",
        "\n",
        "S = [x * D for x in S]\n",
        "print (\"array setelah dikalikan dengan D\", S)"
      ],
      "metadata": {
        "colab": {
          "base_uri": "https://localhost:8080/"
        },
        "id": "EvF-yVW6knul",
        "outputId": "985b231d-69d5-407d-e662-ee4da2870466"
      },
      "execution_count": 1,
      "outputs": [
        {
          "output_type": "stream",
          "name": "stdout",
          "text": [
            "Masukan nilai D2\n",
            "array setelah dikalikan dengan D [8, 2, -2, 20, 0, 24]\n"
          ]
        }
      ]
    },
    {
      "cell_type": "markdown",
      "source": [
        "TUGAS NO 2"
      ],
      "metadata": {
        "id": "CThl6Mkbllng"
      }
    },
    {
      "cell_type": "code",
      "source": [
        "T1 = [9, 12, 30, -1, 0, 4, -1, 3, 30, 14]\n",
        "nilai_terbesar = max(T1)\n",
        "print (\"nilai terbesar dari T1 adalah\", nilai_terbesar)\n",
        "\n",
        "nilai_terkecil = min(T1)\n",
        "print (\"nilai terkecil dari T1 adalah\", nilai_terkecil)\n",
        "\n",
        "T2 = [1, 3, 5, 8, -12, 90, 3, 5]\n",
        "nilai_terbesar = max(T2)\n",
        "print (\"nilai terbesar dari T2 adalah\", nilai_terbesar)\n",
        "\n",
        "nilai_terkecil = min(T2)\n",
        "print (\"nilai terkecil dari T2 adalah\", nilai_terkecil)"
      ],
      "metadata": {
        "colab": {
          "base_uri": "https://localhost:8080/"
        },
        "id": "WK_B6CZjlca-",
        "outputId": "3a7a9707-09e3-4ab8-f345-d613fbbd962c"
      },
      "execution_count": 2,
      "outputs": [
        {
          "output_type": "stream",
          "name": "stdout",
          "text": [
            "nilai terbesar dari T1 adalah 30\n",
            "nilai terkecil dari T1 adalah -1\n",
            "nilai terbesar dari T2 adalah 90\n",
            "nilai terkecil dari T2 adalah -12\n"
          ]
        }
      ]
    },
    {
      "cell_type": "markdown",
      "source": [],
      "metadata": {
        "id": "eoB8DP1GlvH4"
      }
    }
  ],
  "metadata": {
    "colab": {
      "name": "Welcome To Colab",
      "toc_visible": true,
      "provenance": [],
      "include_colab_link": true
    },
    "kernelspec": {
      "display_name": "Python 3",
      "name": "python3"
    }
  },
  "nbformat": 4,
  "nbformat_minor": 0
}