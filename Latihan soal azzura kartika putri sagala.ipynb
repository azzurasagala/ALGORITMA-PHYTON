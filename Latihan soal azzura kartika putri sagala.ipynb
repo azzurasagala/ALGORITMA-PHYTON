{
  "cells": [
    {
      "cell_type": "markdown",
      "metadata": {
        "id": "view-in-github",
        "colab_type": "text"
      },
      "source": [
        "<a href=\"https://colab.research.google.com/github/azzurasagala/ALGORITMA-PHYTON/blob/main/Latihan%20soal%20azzura%20kartika%20putri%20sagala.ipynb\" target=\"_parent\"><img src=\"https://colab.research.google.com/assets/colab-badge.svg\" alt=\"Open In Colab\"/></a>"
      ]
    },
    {
      "cell_type": "markdown",
      "source": [
        "NO 1"
      ],
      "metadata": {
        "id": "QSLubSLrwf9w"
      }
    },
    {
      "cell_type": "code",
      "source": [
        "nama =['A', 'B', 'C', 'D', 'E']\n",
        "nilai =[90, 65, 78, 85, 72]\n",
        "\n",
        "for i in range (len(nama)):\n",
        "    if  nilai[i] >= 75:\n",
        "          status = \"Lulus\"\n",
        "    else:\n",
        "         status =\" Tidak Lulus\"\n",
        "    print (f\"{nama[i]} memiliki nilai {nilai [i]} dinyatakan {status}\")"
      ],
      "metadata": {
        "colab": {
          "base_uri": "https://localhost:8080/"
        },
        "id": "RBQVVltDntQW",
        "outputId": "3ac1d7e5-3730-47ee-922d-3ce9d061a714"
      },
      "execution_count": 29,
      "outputs": [
        {
          "output_type": "stream",
          "name": "stdout",
          "text": [
            "A memiliki nilai 90 dinyatakan Lulus\n",
            "B memiliki nilai 65 dinyatakan  Tidak Lulus\n",
            "C memiliki nilai 78 dinyatakan Lulus\n",
            "D memiliki nilai 85 dinyatakan Lulus\n",
            "E memiliki nilai 72 dinyatakan  Tidak Lulus\n"
          ]
        }
      ]
    },
    {
      "cell_type": "code",
      "source": [
        "NO 2"
      ],
      "metadata": {
        "id": "9lh_EUO0yRu3"
      },
      "execution_count": null,
      "outputs": []
    },
    {
      "cell_type": "markdown",
      "source": [],
      "metadata": {
        "id": "WfocWSahyQet"
      }
    },
    {
      "cell_type": "code",
      "source": [
        "n =int (input(\"masukan nilai n: \"))\n",
        "\n",
        "print (\"angka ganjil: \")\n",
        "for i in range (1, n + 1):\n",
        "  if i % 2 != 0:\n",
        "    print (i, end= \" \")\n",
        "\n",
        "print (\"\\nAngka Genap:\")\n",
        "for i in range (1, n + 1):\n",
        "  if i % 2 == 0:\n",
        "    print (i, end= \" \")"
      ],
      "metadata": {
        "colab": {
          "base_uri": "https://localhost:8080/"
        },
        "id": "RGhLWY3Nwlzi",
        "outputId": "49eca113-ec60-4ec6-e426-67fadaf0a5e9"
      },
      "execution_count": 30,
      "outputs": [
        {
          "output_type": "stream",
          "name": "stdout",
          "text": [
            "masukan nilai n: 20\n",
            "angka ganjil: \n",
            "1 3 5 7 9 11 13 15 17 19 \n",
            "Angka Genap:\n",
            "2 4 6 8 10 12 14 16 18 20 "
          ]
        }
      ]
    },
    {
      "cell_type": "markdown",
      "source": [
        "NO 3"
      ],
      "metadata": {
        "id": "FyEYRMZ3yVOa"
      }
    },
    {
      "cell_type": "code",
      "source": [
        "n = int(input(\"Masukan nilai n: \"))\n",
        "\n",
        "print (f\" Bilangan prima dari 1 sampai {n}: \")\n",
        "for num in range (2, n + 1):\n",
        "  is_prima = True\n",
        "  for i in range (2, int(num**0.5) + 1 ):\n",
        "    if num % i == 0:\n",
        "      is_prima = False\n",
        "      break\n",
        "  if is_prima:\n",
        "    print (num, end=\" \")"
      ],
      "metadata": {
        "colab": {
          "base_uri": "https://localhost:8080/"
        },
        "id": "tQ9cqZ5HyYTm",
        "outputId": "9a05a0ff-8c7a-4ea3-8881-8aea2bbc2839"
      },
      "execution_count": 33,
      "outputs": [
        {
          "output_type": "stream",
          "name": "stdout",
          "text": [
            "Masukan nilai n: 30\n",
            " Bilangan prima dari 1 sampai 30: \n",
            "2 3 5 7 11 13 17 19 23 29 "
          ]
        }
      ]
    },
    {
      "cell_type": "markdown",
      "source": [
        "NO 4"
      ],
      "metadata": {
        "id": "5Y9nZBcT0Y9q"
      }
    },
    {
      "cell_type": "code",
      "source": [
        "n = int(input(\"masukan nilai n: \"))\n",
        "\n",
        "print(f\"bilangan bukan prima dari 1 sampai {n}:\")\n",
        "for num in range (1, n + 1):\n",
        "  if num < 2:\n",
        "    print (num, end=\" \")\n",
        "  else:\n",
        "    is_prima = True\n",
        "    for i in range (2, int(num**0.5)+ 1):\n",
        "      if num % i == 0:\n",
        "        is_prima = False\n",
        "        break\n",
        "    if not is_prima:\n",
        "      print(num, end=\" \")"
      ],
      "metadata": {
        "colab": {
          "base_uri": "https://localhost:8080/"
        },
        "id": "hHx4KCgy0asz",
        "outputId": "912bd28b-8919-478e-d87a-130a33bcf13e"
      },
      "execution_count": 2,
      "outputs": [
        {
          "output_type": "stream",
          "name": "stdout",
          "text": [
            "masukan nilai n: 30\n",
            "bilangan bukan prima dari 1 sampai 30:\n",
            "1 4 6 8 9 10 12 14 15 16 18 20 21 22 24 25 26 27 28 30 "
          ]
        }
      ]
    },
    {
      "cell_type": "markdown",
      "source": [
        "NO 5"
      ],
      "metadata": {
        "id": "aUIy_oyW2vH0"
      }
    },
    {
      "cell_type": "code",
      "source": [
        "t = [2, 5, 8, 3, 6, 9]\n",
        "p = [1, 4, 7, 2, 5, 8]\n",
        "\n",
        "hasil = [t[i] * p[i] for i in range(len(t))]\n",
        "print(hasil)"
      ],
      "metadata": {
        "colab": {
          "base_uri": "https://localhost:8080/"
        },
        "id": "iDfdRpXr22Er",
        "outputId": "4ed44b09-5b59-4ba2-9c8e-6989915ea5c6"
      },
      "execution_count": 3,
      "outputs": [
        {
          "output_type": "stream",
          "name": "stdout",
          "text": [
            "[2, 20, 56, 6, 30, 72]\n"
          ]
        }
      ]
    },
    {
      "cell_type": "markdown",
      "source": [
        "NO 6"
      ],
      "metadata": {
        "id": "7nZ1Zfu23B8Y"
      }
    },
    {
      "cell_type": "code",
      "source": [
        "# Data yang diberikan\n",
        "uang = 15000\n",
        "barang = ['Telur', 'Beras', 'Tepung', 'Daging', 'Tempe']\n",
        "harga = [2000, 15000, 8000, 23000, 6000]\n",
        "\n",
        "# Barang yang dimasukkan ke dalam keranjang\n",
        "keranjang = barang[0:3]  # ['Telur', 'Beras', 'Tepung']\n",
        "total_harga = sum(harga[0:3])  # Total harga barang dalam keranjang\n",
        "\n",
        "# Menampilkan isi keranjang\n",
        "print(\"Keranjang berisi\", keranjang)\n",
        "\n",
        "# Mengecek apakah uang cukup atau tidak\n",
        "if total_harga <= uang:\n",
        "    print(f\"Uang cukup karena total pembelian sebesar {total_harga}\")\n",
        "else:\n",
        "    print(f\"Uang tidak cukup karena total pembelian sebesar {total_harga}\")"
      ],
      "metadata": {
        "colab": {
          "base_uri": "https://localhost:8080/"
        },
        "id": "zxEw4TgG3A8s",
        "outputId": "f3febdf3-b5f8-4964-d1f4-ea2f90809c6f"
      },
      "execution_count": 6,
      "outputs": [
        {
          "output_type": "stream",
          "name": "stdout",
          "text": [
            "Keranjang berisi ['Telur', 'Beras', 'Tepung']\n",
            "Uang tidak cukup karena total pembelian sebesar 25000\n"
          ]
        }
      ]
    },
    {
      "cell_type": "markdown",
      "source": [
        "NO 7"
      ],
      "metadata": {
        "id": "c_oAL9fk3Wf_"
      }
    },
    {
      "cell_type": "code",
      "source": [
        "# Data yang diberikan\n",
        "uang = 15000\n",
        "barang = ['Telur', 'Beras', 'Tepung', 'Daging', 'Tempe']\n",
        "harga = [2000, 15000, 8000, 23000, 6000]\n",
        "\n",
        "# Barang yang dimasukkan ke dalam keranjang\n",
        "keranjang = [barang[0], barang[2]]  # ['Telur', 'Tepung']\n",
        "total_harga = harga[0] + harga[2]  # Total harga barang dalam keranjang\n",
        "\n",
        "# Menampilkan isi keranjang\n",
        "print(\"Keranjang berisi\", keranjang)\n",
        "\n",
        "# Mengecek apakah uang cukup atau tidak\n",
        "if total_harga <= uang:\n",
        "    print(f\"Uang cukup karena total pembelian sebesar {total_harga}\")\n",
        "else:\n",
        "    print(f\"Uang tidak cukup karena total pembelian sebesar {total_harga}\")"
      ],
      "metadata": {
        "colab": {
          "base_uri": "https://localhost:8080/"
        },
        "id": "ghOYGcWx3XrH",
        "outputId": "9fda8112-6a78-4e3a-eff3-7acb6831d7f2"
      },
      "execution_count": 7,
      "outputs": [
        {
          "output_type": "stream",
          "name": "stdout",
          "text": [
            "Keranjang berisi ['Telur', 'Tepung']\n",
            "Uang cukup karena total pembelian sebesar 10000\n"
          ]
        }
      ]
    }
  ],
  "metadata": {
    "colab": {
      "name": "Welcome To Colab",
      "toc_visible": true,
      "provenance": [],
      "include_colab_link": true
    },
    "kernelspec": {
      "display_name": "Python 3",
      "name": "python3"
    }
  },
  "nbformat": 4,
  "nbformat_minor": 0
}