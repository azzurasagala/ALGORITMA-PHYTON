{
  "nbformat": 4,
  "nbformat_minor": 0,
  "metadata": {
    "colab": {
      "provenance": [],
      "authorship_tag": "ABX9TyMqcF1HDcxFq2Wq/l7Ber28",
      "include_colab_link": true
    },
    "kernelspec": {
      "name": "python3",
      "display_name": "Python 3"
    },
    "language_info": {
      "name": "python"
    }
  },
  "cells": [
    {
      "cell_type": "markdown",
      "metadata": {
        "id": "view-in-github",
        "colab_type": "text"
      },
      "source": [
        "<a href=\"https://colab.research.google.com/github/azzurasagala/ALGORITMA-PHYTON/blob/main/TUGAS_LATIHAN_AZZURA_KARTIKA_PUTRI_SAGALA.ipynb\" target=\"_parent\"><img src=\"https://colab.research.google.com/assets/colab-badge.svg\" alt=\"Open In Colab\"/></a>"
      ]
    },
    {
      "cell_type": "markdown",
      "source": [
        "NO 1"
      ],
      "metadata": {
        "id": "PQOwkVBkDlev"
      }
    },
    {
      "cell_type": "code",
      "execution_count": 1,
      "metadata": {
        "colab": {
          "base_uri": "https://localhost:8080/"
        },
        "id": "XpiS8KqjDKrp",
        "outputId": "2757edcd-c14b-4ae8-9a18-eddaeaf514fe"
      },
      "outputs": [
        {
          "output_type": "stream",
          "name": "stdout",
          "text": [
            "Masukan nama anda: azzura\n",
            " Halo, azzura! selamat belajar pyton! \n"
          ]
        }
      ],
      "source": [
        "nama = input (\"Masukan nama anda: \")\n",
        "print (f\" Halo, {nama}! selamat belajar pyton! \")"
      ]
    },
    {
      "cell_type": "markdown",
      "source": [
        "NO 2"
      ],
      "metadata": {
        "id": "3-PcSA0oHTFs"
      }
    },
    {
      "cell_type": "code",
      "source": [
        "panjang = int(input(\"panjang: \"))\n",
        "lebar = int(input(\"lebar: \"))\n",
        "\n",
        "luas = panjang * lebar\n",
        "print (f\"luas: {luas}\")"
      ],
      "metadata": {
        "colab": {
          "base_uri": "https://localhost:8080/"
        },
        "id": "GvOgejNJDple",
        "outputId": "11b91811-e95b-4ca2-8786-6af059f66355"
      },
      "execution_count": 4,
      "outputs": [
        {
          "output_type": "stream",
          "name": "stdout",
          "text": [
            "panjang: 5\n",
            "lebar: 3\n",
            "luas: 15\n"
          ]
        }
      ]
    },
    {
      "cell_type": "markdown",
      "source": [
        "NO 3"
      ],
      "metadata": {
        "id": "axjvT7wtHXCD"
      }
    },
    {
      "cell_type": "code",
      "source": [
        "bilangan = int(input(\"Masukan bilangan\"))\n",
        "if bilangan % 2 == 0:\n",
        "  print (f\"{bilangan} adalah bilangan genap\")\n",
        "\n",
        "else:\n",
        "  print (f\"{bilangan} adalah bilangan ganjil\")"
      ],
      "metadata": {
        "colab": {
          "base_uri": "https://localhost:8080/"
        },
        "id": "5dAJliZUHbHc",
        "outputId": "7b9de2bd-f399-4128-8128-6f767c96f4cb"
      },
      "execution_count": 6,
      "outputs": [
        {
          "output_type": "stream",
          "name": "stdout",
          "text": [
            "Masukan bilangan7\n",
            "7 adalah bilangan ganjil\n"
          ]
        }
      ]
    },
    {
      "cell_type": "markdown",
      "source": [
        "NO 4"
      ],
      "metadata": {
        "id": "-OkcUoHyL79K"
      }
    },
    {
      "cell_type": "code",
      "source": [
        "N = int(input())\n",
        "\n",
        "for i in range (1, N+1):\n",
        "  print (i,end=\" \")"
      ],
      "metadata": {
        "colab": {
          "base_uri": "https://localhost:8080/"
        },
        "id": "sfHoLLdpL_QS",
        "outputId": "8c1112d4-5ef4-4efa-ed31-6b2921228f0b"
      },
      "execution_count": 7,
      "outputs": [
        {
          "output_type": "stream",
          "name": "stdout",
          "text": [
            "20\n",
            "1 2 3 4 5 6 7 8 9 10 11 12 13 14 15 16 17 18 19 20 "
          ]
        }
      ]
    },
    {
      "cell_type": "markdown",
      "source": [
        "NO 5"
      ],
      "metadata": {
        "id": "e-oYaB_KOXvq"
      }
    },
    {
      "cell_type": "code",
      "source": [
        "a = int (input(\"Masukan bilangan a: \"))\n",
        "b = int (input(\"Masukan bilangan b: \"))\n",
        "\n",
        "jumlah = 0\n",
        "\n",
        "for i in range (a, b+1):\n",
        "  jumlah = jumlah + i\n",
        "print(\"jumlah\", jumlah)"
      ],
      "metadata": {
        "colab": {
          "base_uri": "https://localhost:8080/"
        },
        "id": "ztPgWqSJOagb",
        "outputId": "1b5f10d4-87d2-42c6-89e0-f0bcfa73347b"
      },
      "execution_count": 8,
      "outputs": [
        {
          "output_type": "stream",
          "name": "stdout",
          "text": [
            "Masukan bilangan a: 3\n",
            "Masukan bilangan b: 7\n",
            "jumlah 25\n"
          ]
        }
      ]
    },
    {
      "cell_type": "markdown",
      "source": [
        "NO 6"
      ],
      "metadata": {
        "id": "bc6-aYAwUcrg"
      }
    },
    {
      "cell_type": "code",
      "source": [
        "a = int (input(\"Masukan bilangan a: \"))\n",
        "b = int (input(\"Masukan bilangan b: \"))\n",
        "\n",
        "print (\"Bilangan genap antara\", a, \"sampai\", b)\n",
        "for i in range (a, b+1):\n",
        "  if i % 2 == 0:\n",
        "    print((i), end= \" \")\n",
        "\n"
      ],
      "metadata": {
        "colab": {
          "base_uri": "https://localhost:8080/"
        },
        "id": "3WUQe_i0Ue0n",
        "outputId": "1d9728c6-9e12-4542-b9a9-ce1879f8415c"
      },
      "execution_count": 12,
      "outputs": [
        {
          "output_type": "stream",
          "name": "stdout",
          "text": [
            "Masukan bilangan a: 3\n",
            "Masukan bilangan b: 10\n",
            "Bilangan genap antara 3 sampai 10\n",
            "4 6 8 10 "
          ]
        }
      ]
    },
    {
      "cell_type": "code",
      "source": [
        "NO 7"
      ],
      "metadata": {
        "id": "GKA4WyJ4WHx4"
      },
      "execution_count": null,
      "outputs": []
    },
    {
      "cell_type": "code",
      "source": [
        "A = [5, 2, 8, 1]\n",
        "array_terbalik = [0] * len (A)\n",
        "for i in range (len(A)):\n",
        "  array_terbalik [len(A)-1-i]=A[i]\n",
        "print (\"array asli:\" ,A)\n",
        "print (\"array terbalik:\" , array_terbalik)"
      ],
      "metadata": {
        "colab": {
          "base_uri": "https://localhost:8080/"
        },
        "id": "fXwRUSZ3WJRE",
        "outputId": "6439e7db-a8e9-43f5-9fcd-bfff4d0f7644"
      },
      "execution_count": 16,
      "outputs": [
        {
          "output_type": "stream",
          "name": "stdout",
          "text": [
            "array asli: [5, 2, 8, 1]\n",
            "array terbalik: [1, 8, 2, 5]\n"
          ]
        }
      ]
    },
    {
      "cell_type": "markdown",
      "source": [
        "NO 8"
      ],
      "metadata": {
        "id": "PDMH6J5gfVcT"
      }
    },
    {
      "cell_type": "code",
      "source": [
        "angka = int(input(\"masukan bilangan: \"))\n",
        "prima = True\n",
        "if angka < 2:\n",
        "  prima = False\n",
        "else :\n",
        "  for i in range (2, angka):\n",
        "    if angka % i == 0:\n",
        "      prima = False\n",
        "      break\n",
        "if prima:\n",
        "  print (f\" {angka} adalah bilangan prima. \")\n",
        "else:\n",
        "  print(f\"{angka} bukan bilangan prima.\")\n"
      ],
      "metadata": {
        "colab": {
          "base_uri": "https://localhost:8080/"
        },
        "id": "LJHhvYwFfXPa",
        "outputId": "c80c6d40-d921-4d09-b0f9-e08ff0895b83"
      },
      "execution_count": 21,
      "outputs": [
        {
          "output_type": "stream",
          "name": "stdout",
          "text": [
            "masukan bilangan: 13\n",
            " 13 adalah bilangan prima. \n"
          ]
        }
      ]
    }
  ]
}