{
  "nbformat": 4,
  "nbformat_minor": 0,
  "metadata": {
    "colab": {
      "provenance": [],
      "authorship_tag": "ABX9TyOuSUoWL9RbrqSyOc3yZbnG",
      "include_colab_link": true
    },
    "kernelspec": {
      "name": "python3",
      "display_name": "Python 3"
    },
    "language_info": {
      "name": "python"
    }
  },
  "cells": [
    {
      "cell_type": "markdown",
      "metadata": {
        "id": "view-in-github",
        "colab_type": "text"
      },
      "source": [
        "<a href=\"https://colab.research.google.com/github/azzurasagala/ALGORITMA-PHYTON/blob/main/azzura%20latihan%20.ipynb\" target=\"_parent\"><img src=\"https://colab.research.google.com/assets/colab-badge.svg\" alt=\"Open In Colab\"/></a>"
      ]
    },
    {
      "cell_type": "code",
      "execution_count": 1,
      "metadata": {
        "colab": {
          "base_uri": "https://localhost:8080/"
        },
        "id": "MjtBrWinYuRh",
        "outputId": "48ff2281-17ea-4bd3-aa64-12e63ca944fa"
      },
      "outputs": [
        {
          "output_type": "stream",
          "name": "stdout",
          "text": [
            "Masukan nama nada: AZZURA\n",
            "Halo, AZZURA! selamat belajar python! \n"
          ]
        }
      ],
      "source": [
        "nama = input (\"Masukan nama nada: \")\n",
        "print (f\"Halo, {nama}! selamat belajar python! \")"
      ]
    },
    {
      "cell_type": "code",
      "source": [
        "panjang = int(input(\"panjang: \"))\n",
        "lebar = int(input(\"lebar: \"))\n",
        "\n",
        "luas = panjang + lebar\n",
        "print(f\"luas: {luas}\")"
      ],
      "metadata": {
        "colab": {
          "base_uri": "https://localhost:8080/"
        },
        "id": "LChgq0TeakHj",
        "outputId": "b2dc8174-f211-439c-9291-8faa29ecb690"
      },
      "execution_count": 4,
      "outputs": [
        {
          "output_type": "stream",
          "name": "stdout",
          "text": [
            "panjang: 5\n",
            "lebar: 3\n",
            "luas: 8\n"
          ]
        }
      ]
    },
    {
      "cell_type": "code",
      "source": [
        "bilangan = int(input(\"Masukan bilangan: \"))\n",
        "if bilangan % 2 == 0:\n",
        "  print(f\"{bilangan}adalah bilangan genap\")\n",
        "else:\n",
        "  print(f\"{bilangan} adalah bilangan ganjil\")"
      ],
      "metadata": {
        "colab": {
          "base_uri": "https://localhost:8080/"
        },
        "id": "tZJjRuH3cKwa",
        "outputId": "3819d8f3-9b4e-4cda-daf4-fbcf97cddb71"
      },
      "execution_count": 5,
      "outputs": [
        {
          "output_type": "stream",
          "name": "stdout",
          "text": [
            "Masukan bilangan: 7\n",
            "7 adalah bilangan ganjil\n"
          ]
        }
      ]
    },
    {
      "cell_type": "code",
      "source": [
        "N = int(input())\n",
        "for i in range (1, N+1):\n",
        "  print(i, end= \" \")"
      ],
      "metadata": {
        "colab": {
          "base_uri": "https://localhost:8080/"
        },
        "id": "F9s22sApc-Jz",
        "outputId": "d4a4596d-de48-447e-e3af-c9124d614b19"
      },
      "execution_count": 6,
      "outputs": [
        {
          "output_type": "stream",
          "name": "stdout",
          "text": [
            "20\n",
            "1 2 3 4 5 6 7 8 9 10 11 12 13 14 15 16 17 18 19 20 "
          ]
        }
      ]
    },
    {
      "cell_type": "code",
      "source": [
        "a = int(input(\"Masukan bilangan a: \"))\n",
        "b = int(input(\"Masukan bilangan b: \"))\n",
        "\n",
        "print (\"Bilangan  genap antara\", a, \"sampai\", b)\n",
        "for i in range (a, b+1):\n",
        "  if i % 2 == 0:\n",
        "    print((i), end= \" \")"
      ],
      "metadata": {
        "colab": {
          "base_uri": "https://localhost:8080/"
        },
        "id": "TcBfGhhfgX6x",
        "outputId": "7b7ddca7-7302-4da9-9707-d479fd15fa73"
      },
      "execution_count": 7,
      "outputs": [
        {
          "output_type": "stream",
          "name": "stdout",
          "text": [
            "Masukan bilangan a: 3\n",
            "Masukan bilangan b: 10\n",
            "Bilangan  genap antara 3 sampai 10\n",
            "4 6 8 10 "
          ]
        }
      ]
    },
    {
      "cell_type": "code",
      "source": [
        "A = [5,2,8,1]\n",
        "array_terbalik = [0] * len (A)\n",
        "for i in range  (len(A)):\n",
        "  array_terbalik [len(A)-1-i]=A[i]\n",
        "print(\"array asli:\",A)\n",
        "print(\"array terbalik:\" , array_terbalik)"
      ],
      "metadata": {
        "colab": {
          "base_uri": "https://localhost:8080/"
        },
        "id": "9KD4CiicjPhZ",
        "outputId": "af54cd4b-9b68-4a59-80df-721c0c2e5d59"
      },
      "execution_count": 10,
      "outputs": [
        {
          "output_type": "stream",
          "name": "stdout",
          "text": [
            "array asli: [5, 2, 8, 1]\n",
            "array terbalik: [1, 8, 2, 5]\n"
          ]
        }
      ]
    },
    {
      "cell_type": "code",
      "source": [
        "angka = int(input(\"masukan bilangan: \"))\n",
        "prima = True\n",
        "if angka < 2:\n",
        "  prima = false\n",
        "else :\n",
        "  for i in range (2, angka):\n",
        "    if angka % i == 0:\n",
        "      prima = False\n",
        "      break\n",
        "if prima:\n",
        "  print (f\"{angka} adalah bilangan prima. \")\n",
        "else:\n",
        "  print(f\"{angka} bukan bilangan prima. \")"
      ],
      "metadata": {
        "colab": {
          "base_uri": "https://localhost:8080/"
        },
        "id": "P4T9aCeNkW2M",
        "outputId": "e6beff9c-14c0-41f5-ee98-47b034f3d1ac"
      },
      "execution_count": 15,
      "outputs": [
        {
          "output_type": "stream",
          "name": "stdout",
          "text": [
            "masukan bilangan: 13\n",
            "13 adalah bilangan prima. \n"
          ]
        }
      ]
    }
  ]
}