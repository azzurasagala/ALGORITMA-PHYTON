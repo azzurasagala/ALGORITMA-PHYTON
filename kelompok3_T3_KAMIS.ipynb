{
  "nbformat": 4,
  "nbformat_minor": 0,
  "metadata": {
    "colab": {
      "provenance": [],
      "authorship_tag": "ABX9TyNrpMY7/kePPfFq/+4mtqis",
      "include_colab_link": true
    },
    "kernelspec": {
      "name": "python3",
      "display_name": "Python 3"
    },
    "language_info": {
      "name": "python"
    }
  },
  "cells": [
    {
      "cell_type": "markdown",
      "metadata": {
        "id": "view-in-github",
        "colab_type": "text"
      },
      "source": [
        "<a href=\"https://colab.research.google.com/github/azzurasagala/ALGORITMA-PHYTON/blob/main/kelompok3_T3_KAMIS.ipynb\" target=\"_parent\"><img src=\"https://colab.research.google.com/assets/colab-badge.svg\" alt=\"Open In Colab\"/></a>"
      ]
    },
    {
      "cell_type": "code",
      "execution_count": 1,
      "metadata": {
        "colab": {
          "base_uri": "https://localhost:8080/"
        },
        "id": "e4BRboyoTSUX",
        "outputId": "0c621751-a384-4d8e-811a-ea61f882df6a"
      },
      "outputs": [
        {
          "output_type": "stream",
          "name": "stdout",
          "text": [
            "Array A dan B sama: True\n",
            "Array A dan C sama: False\n"
          ]
        }
      ],
      "source": [
        "def cek_kesamaan(array1, array2):\n",
        "    return array1 == array2\n",
        "\n",
        "# Contoh penggunaan\n",
        "A = [4, 6, 3, 1]\n",
        "B = [4, 6, 3, 1]\n",
        "C = [4, 3, 6, 1]\n",
        "\n",
        "print(\"Array A dan B sama:\", cek_kesamaan(A, B))  # True\n",
        "print(\"Array A dan C sama:\", cek_kesamaan(A, C))  # False"
      ]
    }
  ]
}